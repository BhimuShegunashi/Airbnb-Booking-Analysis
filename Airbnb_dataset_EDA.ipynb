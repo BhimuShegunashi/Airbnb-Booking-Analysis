{
  "nbformat": 4,
  "nbformat_minor": 0,
  "metadata": {
    "colab": {
      "private_outputs": true,
      "provenance": [],
      "collapsed_sections": [
        "vncDsAP0Gaoa",
        "FJNUwmbgGyua",
        "w6K7xa23Elo4",
        "yQaldy8SH6Dl",
        "PH-0ReGfmX4f",
        "mDgbUHAGgjLW",
        "O_i_v8NEhb9l",
        "HhfV-JJviCcP",
        "Y3lxredqlCYt",
        "3RnN4peoiCZX",
        "x71ZqKXriCWQ",
        "7hBIi_osiCS2",
        "JlHwYmJAmNHm",
        "35m5QtbWiB9F",
        "PoPl-ycgm1ru",
        "H0kj-8xxnORC",
        "nA9Y7ga8ng1Z",
        "PBTbrJXOngz2",
        "u3PMJOP6ngxN",
        "dauF4eBmngu3",
        "bKJF3rekwFvQ",
        "MSa1f5Uengrz",
        "GF8Ens_Soomf",
        "0wOQAZs5pc--",
        "K5QZ13OEpz2H",
        "lQ7QKXXCp7Bj",
        "448CDAPjqfQr",
        "KSlN3yHqYklG",
        "t6dVpIINYklI",
        "ijmpgYnKYklI",
        "-JiQyfWJYklI",
        "EM7whBJCYoAo",
        "fge-S5ZAYoAp",
        "85gYPyotYoAp",
        "RoGjAbkUYoAp",
        "4Of9eVA-YrdM",
        "iky9q4vBYrdO",
        "F6T5p64dYrdO",
        "y-Ehk30pYrdP",
        "bamQiAODYuh1",
        "QHF8YVU7Yuh3",
        "GwzvFGzlYuh3",
        "qYpmQ266Yuh3",
        "OH-pJp9IphqM",
        "bbFf2-_FphqN",
        "_ouA3fa0phqN",
        "Seke61FWphqN",
        "PIIx-8_IphqN",
        "t27r6nlMphqO",
        "r2jJGEOYphqO",
        "b0JNsNcRphqO",
        "BZR9WyysphqO",
        "jj7wYXLtphqO",
        "eZrbJ2SmphqO",
        "rFu4xreNphqO",
        "YJ55k-q6phqO",
        "gCFgpxoyphqP",
        "OVtJsKN_phqQ",
        "lssrdh5qphqQ",
        "U2RJ9gkRphqQ",
        "1M8mcRywphqQ",
        "tgIPom80phqQ",
        "JMzcOPDDphqR",
        "x-EpHcCOp1ci",
        "X_VqEhTip1ck",
        "8zGJKyg5p1ck",
        "PVzmfK_Ep1ck",
        "n3dbpmDWp1ck",
        "ylSl6qgtp1ck",
        "ZWILFDl5p1ck",
        "M7G43BXep1ck",
        "Ag9LCva-p1cl",
        "E6MkPsBcp1cl",
        "2cELzS2fp1cl",
        "3MPXvC8up1cl",
        "NC_X3p0fY2L0",
        "UV0SzAkaZNRQ",
        "YPEH6qLeZNRQ",
        "q29F0dvdveiT",
        "EXh0U9oCveiU",
        "22aHeOlLveiV",
        "JcMwzZxoAimU",
        "8G2x9gOozGDZ",
        "gCX9965dhzqZ",
        "gIfDvo9L0UH2"
      ]
    },
    "kernelspec": {
      "name": "python3",
      "display_name": "Python 3"
    },
    "language_info": {
      "name": "python"
    }
  },
  "cells": [
    {
      "cell_type": "markdown",
      "source": [
        "# **Project Name**    - Airbnb Booking Analysis\n",
        "\n"
      ],
      "metadata": {
        "id": "vncDsAP0Gaoa"
      }
    },
    {
      "cell_type": "markdown",
      "source": [
        "##### **Project Type**    - Exploratory Data Analysis (EDA)\n",
        "##### **Contribution**    - Individual\n",
        "#####  **Name**           - Bhimanna Shegunashi"
      ],
      "metadata": {
        "id": "beRrZCGUAJYm"
      }
    },
    {
      "cell_type": "markdown",
      "source": [
        "# **Project Summary -**"
      ],
      "metadata": {
        "id": "FJNUwmbgGyua"
      }
    },
    {
      "cell_type": "markdown",
      "source": [
        "* **The purpose of the analysis:** understanding the factors that influence Airbnb prices in New York City, or identifying patterns of all variables and Our analysis provides useful information for travelers and hosts in the city and also provides some best insights for Airbnb business.\n",
        "\n",
        "* This project involved exploring and cleaning a dataset to prepare it for analysis. The data exploration process involved identifying and understanding the characteristics of the data, such as the data types, missing values, and distributions of values. The data cleaning process involved identifying and addressing any issues or inconsistencies in the data, such as errors, missing values, or duplicate records and remove outliers.\n",
        "\n",
        "* Through this process, we were able to identify and fix any issues with the data, and ensure that it was ready for further analysis. This is an important step in any data analysis project, as it allows us to work with high-quality data and avoid any potential biases or errors that could affect the results. The clean and prepared data can now be used to answer specific research.\n",
        "\n",
        "* Once the data has been cleaned and prepared, now begin exploring and summarizing it with describe the data and creating visualizations, and identifying patterns and trends in the data. in explore the data, may develop the relationships between different variables or the underlying causes of certain patterns or trends and other methods.\n",
        "\n",
        "* Using data visualization to explore and understand patterns in Airbnb data. We created various graphs and charts to visualize the data, and wrote observations and insights below each one to help us better understand the data and identify useful insights and patterns.\n",
        "\n",
        "* Through this process, we were able to uncover trends and relationships in the data that would have been difficult to identify through raw data alone, for example factors affecting prices and availability. We found that minimum nights, number of reviews, and host listing count are important for determining prices, and that availability varies significantly across neighborhoods. Our analysis provides useful information for travelers and hosts in the city.\n",
        "\n",
        "* The observations and insights we identified through this process will be useful for future analysis and decision-making related to Airbnb. and also Our analysis provides useful information for travelers and hosts in the city.\n",
        "\n",
        "\n"
      ],
      "metadata": {
        "id": "F6v_1wHtG2nS"
      }
    },
    {
      "cell_type": "markdown",
      "source": [
        "# **GitHub Link -**https://github.com/BhimuShegunashi/Airbnb-Booking-Analysis.git"
      ],
      "metadata": {
        "id": "w6K7xa23Elo4"
      }
    },
    {
      "cell_type": "markdown",
      "source": [
        "Provide your GitHub Link here."
      ],
      "metadata": {
        "id": "h1o69JH3Eqqn"
      }
    },
    {
      "cell_type": "markdown",
      "source": [
        "# **Problem Statement**\n"
      ],
      "metadata": {
        "id": "yQaldy8SH6Dl"
      }
    },
    {
      "cell_type": "markdown",
      "source": [
        "1. What are the most popular neighborhoods\n",
        "for Airbnb rentals in New York City? How do prices and availability vary by neighborhood?\n",
        "\n",
        "2. How has the Airbnb market in New York City changed over time? Have there been any significant trends in terms of the number of listings, prices, or occupancy rates?\n",
        "\n",
        "3. Are there any patterns or trends in terms of the types of properties that are being rented out on Airbnb in New York City? Are certain types of properties more popular or more expensive than others?\n",
        "\n",
        "4. Are there any factors that seem to be correlated with the prices of Airbnb rentals in New York City?\n",
        "\n",
        "5. The best area in New York City for a host to buy property at a good price rate and in an area with high traffic ?\n",
        "\n",
        "6. How do the lengths of stay for Airbnb rentals in New York City vary by neighborhood? Do certain neighborhoods tend to attract longer or shorter stays?\n",
        "\n",
        "7. How do the ratings of Airbnb rentals in New York City compare to their prices? Are higher-priced rentals more likely to have higher ratings?\n",
        "\n",
        "8. Find the total numbers of Reviews and Maximum Reviews by Each Neighborhood Group.\n",
        "\n",
        "9. Find Most reviewed room type in Neighborhood groups per month.\n",
        "\n",
        "10. Find Best location listing/property location for travelers.\n",
        "\n",
        "11. Find also best location listing/property location for Hosts.\n",
        "\n",
        "12. Find Price variations in NYC Neighborhood groups.\n",
        "\n",
        "There is a lot of problem statements and we have to finds information and insights through different different problem statements so now lets start...\n",
        "\n",
        "\n",
        "\n"
      ],
      "metadata": {
        "id": "DpeJGUA3kjGy"
      }
    },
    {
      "cell_type": "markdown",
      "source": [
        "#### **Define Your Business Objective?**"
      ],
      "metadata": {
        "id": "PH-0ReGfmX4f"
      }
    },
    {
      "cell_type": "markdown",
      "source": [
        "Answer Here."
      ],
      "metadata": {
        "id": "PhDvGCAqmjP1"
      }
    },
    {
      "cell_type": "markdown",
      "source": [
        "# **General Guidelines** : -  "
      ],
      "metadata": {
        "id": "mDgbUHAGgjLW"
      }
    },
    {
      "cell_type": "markdown",
      "source": [
        "1.   Well-structured, formatted, and commented code is required.\n",
        "2.   Exception Handling, Production Grade Code & Deployment Ready Code will be a plus. Those students will be awarded some additional credits.\n",
        "     \n",
        "     The additional credits will have advantages over other students during Star Student selection.\n",
        "       \n",
        "             [ Note: - Deployment Ready Code is defined as, the whole .ipynb notebook should be executable in one go\n",
        "                       without a single error logged. ]\n",
        "\n",
        "3.   Each and every logic should have proper comments.\n",
        "4. You may add as many number of charts you want. Make Sure for each and every chart the following format should be answered.\n",
        "        \n",
        "\n",
        "```\n",
        "# Chart visualization code\n",
        "```\n",
        "            \n",
        "\n",
        "*   Why did you pick the specific chart?\n",
        "*   What is/are the insight(s) found from the chart?\n",
        "* Will the gained insights help creating a positive business impact?\n",
        "Are there any insights that lead to negative growth? Justify with specific reason.\n",
        "\n",
        "5. You have to create at least 20 logical & meaningful charts having important insights.\n",
        "\n",
        "\n",
        "[ Hints : - Do the Vizualization in  a structured way while following \"UBM\" Rule.\n",
        "\n",
        "U - Univariate Analysis,\n",
        "\n",
        "B - Bivariate Analysis (Numerical - Categorical, Numerical - Numerical, Categorical - Categorical)\n",
        "\n",
        "M - Multivariate Analysis\n",
        " ]\n",
        "\n",
        "\n",
        "\n"
      ],
      "metadata": {
        "id": "ZrxVaUj-hHfC"
      }
    },
    {
      "cell_type": "markdown",
      "source": [
        "# ***Let's Begin !***"
      ],
      "metadata": {
        "id": "O_i_v8NEhb9l"
      }
    },
    {
      "cell_type": "markdown",
      "source": [
        "## ***1. Know Your Data***"
      ],
      "metadata": {
        "id": "HhfV-JJviCcP"
      }
    },
    {
      "cell_type": "markdown",
      "source": [
        "### Import Libraries"
      ],
      "metadata": {
        "id": "Y3lxredqlCYt"
      }
    },
    {
      "cell_type": "code",
      "source": [
        "# Import Libraries\n",
        "import numpy as np\n",
        "import pandas as pd\n",
        "import matplotlib.pyplot as plt  #for visualization\n",
        "%matplotlib inline\n",
        "import seaborn as sns  #for visualization\n",
        "import warnings\n",
        "warnings.filterwarnings(\"ignore\")\n"
      ],
      "metadata": {
        "id": "M8Vqi-pPk-HR"
      },
      "execution_count": null,
      "outputs": []
    },
    {
      "cell_type": "markdown",
      "source": [
        "### Dataset Loading"
      ],
      "metadata": {
        "id": "3RnN4peoiCZX"
      }
    },
    {
      "cell_type": "code",
      "source": [
        "# Load Dataset\n",
        "from google.colab import drive\n",
        "drive.mount('/content/drive/')\n",
        "Airbnb_df = pd.read_csv(\"/content/drive/MyDrive/Colab Notebooks/Numerical Programming in Python/Airbnb NYC 2019.csv\")\n"
      ],
      "metadata": {
        "id": "4CkvbW_SlZ_R"
      },
      "execution_count": null,
      "outputs": []
    },
    {
      "cell_type": "markdown",
      "source": [
        "### Dataset First View"
      ],
      "metadata": {
        "id": "x71ZqKXriCWQ"
      }
    },
    {
      "cell_type": "code",
      "source": [
        "# Dataset First Look\n",
        "Airbnb_df"
      ],
      "metadata": {
        "id": "LWNFOSvLl09H"
      },
      "execution_count": null,
      "outputs": []
    },
    {
      "cell_type": "markdown",
      "source": [
        "### Dataset Rows & Columns count"
      ],
      "metadata": {
        "id": "7hBIi_osiCS2"
      }
    },
    {
      "cell_type": "code",
      "source": [
        "# Dataset Rows & Columns count\n",
        "rows, cols = Airbnb_df.shape\n",
        "print(f\"Thre are {rows} rows and {cols} colomns in the dataset.\")"
      ],
      "metadata": {
        "id": "Kllu7SJgmLij"
      },
      "execution_count": null,
      "outputs": []
    },
    {
      "cell_type": "markdown",
      "source": [
        "### Dataset Information"
      ],
      "metadata": {
        "id": "JlHwYmJAmNHm"
      }
    },
    {
      "cell_type": "code",
      "source": [
        "# Dataset Info\n",
        "Airbnb_df.info()"
      ],
      "metadata": {
        "id": "e9hRXRi6meOf"
      },
      "execution_count": null,
      "outputs": []
    },
    {
      "cell_type": "markdown",
      "source": [
        "#### Duplicate Values"
      ],
      "metadata": {
        "id": "35m5QtbWiB9F"
      }
    },
    {
      "cell_type": "code",
      "source": [
        "# Dataset Duplicate Value Count\n",
        "duplicate_rows = Airbnb_df.duplicated().sum()\n",
        "print(f\"There are {duplicate_rows} duplicate rows in the dataset\")\n",
        "Airbnb_df.count()"
      ],
      "metadata": {
        "id": "1sLdpKYkmox0"
      },
      "execution_count": null,
      "outputs": []
    },
    {
      "cell_type": "markdown",
      "source": [
        "#### Missing Values/Null Values"
      ],
      "metadata": {
        "id": "PoPl-ycgm1ru"
      }
    },
    {
      "cell_type": "code",
      "source": [
        "# Missing Values/Null Values Count\n",
        "missing_values = Airbnb_df.isnull().sum()\n",
        "print(missing_values)"
      ],
      "metadata": {
        "id": "GgHWkxvamxVg"
      },
      "execution_count": null,
      "outputs": []
    },
    {
      "cell_type": "code",
      "source": [
        "Airbnb_df['name'].fillna('unknown',inplace=True)\n",
        "Airbnb_df['host_name'].fillna('no_name',inplace=True)"
      ],
      "metadata": {
        "id": "iQtlyIZcpzXv"
      },
      "execution_count": null,
      "outputs": []
    },
    {
      "cell_type": "code",
      "source": [
        "Airbnb_df[['host_name','name']].isnull().sum()"
      ],
      "metadata": {
        "id": "DrZ28v0Bquoh"
      },
      "execution_count": null,
      "outputs": []
    },
    {
      "cell_type": "code",
      "source": [
        "# Visualizing the missing values\n",
        "import missingno as msno\n",
        "\n",
        "#missing value as a matrix\n",
        "msno.matrix(Airbnb_df)"
      ],
      "metadata": {
        "id": "3q5wnI3om9sJ"
      },
      "execution_count": null,
      "outputs": []
    },
    {
      "cell_type": "markdown",
      "source": [
        "### What did you know about your dataset?"
      ],
      "metadata": {
        "id": "H0kj-8xxnORC"
      }
    },
    {
      "cell_type": "markdown",
      "source": [
        "* This Airbnb dataset contains nearly 48,895 observations from New York , with 16 columns of data.\n",
        "\n",
        "* The Data includes both categorical and numeric values, providing a diverse range of information about the listings.\n",
        "\n",
        "* This Dataset may be useful for analyzing trends and patterns in the Airbnb market in New York and also gain insights into the preferences and behavior of Airbnb users in the area.\n",
        "\n",
        "* This dataset contains information about Airbnb bookings in New York City in 2019. By analyzing this data, you may be able to understand the trends and patterns of Airbnb use in the NYC.\n"
      ],
      "metadata": {
        "id": "gfoNAAC-nUe_"
      }
    },
    {
      "cell_type": "markdown",
      "source": [
        "## ***2. Understanding Your Variables***"
      ],
      "metadata": {
        "id": "nA9Y7ga8ng1Z"
      }
    },
    {
      "cell_type": "code",
      "source": [
        "# Dataset Columns\n",
        "columns= Airbnb_df.columns\n",
        "print(\"The columns in the data set are: \")\n",
        "for column in columns:\n",
        "  print(column)"
      ],
      "metadata": {
        "id": "j7xfkqrt5Ag5"
      },
      "execution_count": null,
      "outputs": []
    },
    {
      "cell_type": "code",
      "source": [
        "# Dataset Describe\n",
        "summary = Airbnb_df.describe()\n",
        "print(summary)\n"
      ],
      "metadata": {
        "id": "DnOaZdaE5Q5t"
      },
      "execution_count": null,
      "outputs": []
    },
    {
      "cell_type": "markdown",
      "source": [
        "###UNDERSTAND THE GIVEN VARIABLES<div>\n",
        "**Listing_id** :- This is a unique identifier for each listing in the dataset.\n",
        "\n",
        "**Listing_name** :- This is the name or title of the listing, as it appears on the Airbnb website.\n",
        "\n",
        "**Host_id** :- This is a unique identifier for each host in the dataset.\n",
        "\n",
        "**Host_name** :- This is the name of the host as it appears on the Airbnb website.\n",
        "\n",
        "**Neighbourhood_group** :- This is a grouping of neighborhoods in New York City, such as Manhattan or Brooklyn.\n",
        "\n",
        "**Neighbourhood** :- This is the specific neighborhood in which the listing is located.\n",
        "\n",
        "**Latitude** :- This is the geographic latitude of the listing.\n",
        "\n",
        "**Longitude** :- This is the geographic longitude of the listing.\n",
        "\n",
        "**Room_type** :- This is the type of room or property being offered, such as an entire home, private room, shared room.\n",
        "\n",
        "**Price** :- This is the nightly price for the listing, in US dollars.\n",
        "\n",
        "**Minimum_nights** :- This is the minimum number of nights that a guest must stay at the listing.\n",
        "\n",
        "**Total_reviews** :- This is the total number of reviews that the listing has received.\n",
        "\n",
        "**Reviews_per_month** :- This is the average number of reviews that the listing receives per month.\n",
        "\n",
        "**Host_listings_count** :- This is the total number of listings that the host has on Airbnb.\n",
        "\n",
        "**Availability_365** :- This is the number of days in the next 365 days that the listing is available for booking."
      ],
      "metadata": {
        "id": "aJV4KIxSnxay"
      }
    },
    {
      "cell_type": "markdown",
      "source": [
        "### Check Unique Values for each variable."
      ],
      "metadata": {
        "id": "u3PMJOP6ngxN"
      }
    },
    {
      "cell_type": "code",
      "source": [
        "# Check Unique Values for each variable.\n",
        "Airbnb_df['id'].nunique()\n",
        "\n"
      ],
      "metadata": {
        "id": "zms12Yq5n-jE"
      },
      "execution_count": null,
      "outputs": []
    },
    {
      "cell_type": "code",
      "source": [
        "#so there are 221 unique neighbourhood in dataset\n",
        "Airbnb_df['neighbourhood'].nunique()"
      ],
      "metadata": {
        "id": "JBo7KHi5xPE3"
      },
      "execution_count": null,
      "outputs": []
    },
    {
      "cell_type": "code",
      "source": [
        "#total 5 unique neighbourhood_group in dataset\n",
        "Airbnb_df['neighbourhood_group'].nunique()"
      ],
      "metadata": {
        "id": "RUyM93YGxkl2"
      },
      "execution_count": null,
      "outputs": []
    },
    {
      "cell_type": "code",
      "source": [
        "#so total 11453 different hosts in Airbnb-NYC\n",
        "Airbnb_df['host_name'].nunique()"
      ],
      "metadata": {
        "id": "Hp0z95E2x34_"
      },
      "execution_count": null,
      "outputs": []
    },
    {
      "cell_type": "code",
      "source": [
        "#most of the name are different in dataset\n",
        "Airbnb_df['name'].nunique()"
      ],
      "metadata": {
        "id": "lqeofE-ryMr9"
      },
      "execution_count": null,
      "outputs": []
    },
    {
      "cell_type": "code",
      "source": [
        "Airbnb_df[Airbnb_df['host_name']=='David']['name'].nunique()\n",
        "#so here same host David operates different 402 properties"
      ],
      "metadata": {
        "id": "1M4qeV_gDUAz"
      },
      "execution_count": null,
      "outputs": []
    },
    {
      "cell_type": "code",
      "source": [
        "Airbnb_df[Airbnb_df['name']==Airbnb_df['host_name']].head()\n",
        "#there are few listing where the property name and the host have same names"
      ],
      "metadata": {
        "id": "v04XrQqtD2Jy"
      },
      "execution_count": null,
      "outputs": []
    },
    {
      "cell_type": "markdown",
      "source": [
        "## 3. ***Data Wrangling***"
      ],
      "metadata": {
        "id": "dauF4eBmngu3"
      }
    },
    {
      "cell_type": "markdown",
      "source": [
        "### Describe the Dataset and removing outliers"
      ],
      "metadata": {
        "id": "bKJF3rekwFvQ"
      }
    },
    {
      "cell_type": "code",
      "source": [
        "# describe the DataFrame.\n",
        "Airbnb_df.describe()\n"
      ],
      "metadata": {
        "id": "wk-9a2fpoLcV"
      },
      "execution_count": null,
      "outputs": []
    },
    {
      "cell_type": "code",
      "source": [
        "sns.boxplot(x = Airbnb_df['price'])\n",
        "plt.show()"
      ],
      "metadata": {
        "id": "puJx8a0LJFi9"
      },
      "execution_count": null,
      "outputs": []
    },
    {
      "cell_type": "markdown",
      "source": [
        "using IQR technique"
      ],
      "metadata": {
        "id": "2fKRtWi9JWW1"
      }
    },
    {
      "cell_type": "code",
      "source": [
        "#writing a outlier function for removing outliers in important columns.\n",
        "def iqr_technique(DFcolumn):\n",
        "  Q1 = np.percentile(DFcolumn, 25)\n",
        "  Q3 = np.percentile(DFcolumn, 75)\n",
        "  IQR = Q3 - Q1\n",
        "  lower_range = Q1- (1.5 * IQR)\n",
        "  upper_range = Q3 + (1.5 * IQR)\n",
        "\n",
        "  return lower_range, upper_range"
      ],
      "metadata": {
        "id": "z9RE7LKdJY6T"
      },
      "execution_count": null,
      "outputs": []
    },
    {
      "cell_type": "code",
      "source": [
        "lower_range, upper_range = iqr_technique(Airbnb_df['price'])\n",
        "Airbnb_df = Airbnb_df[(Airbnb_df['price'] > lower_range) & (Airbnb_df['price'] < upper_range)]"
      ],
      "metadata": {
        "id": "8618XNRQLil-"
      },
      "execution_count": null,
      "outputs": []
    },
    {
      "cell_type": "code",
      "source": [
        "#so the outlier are removed from price column now check with boxplot and check the shape of new dataframe\n",
        "sns.boxplot(x = Airbnb_df['price'])\n",
        "print(Airbnb_df.shape)"
      ],
      "metadata": {
        "id": "-5iC6NTn6yvA"
      },
      "execution_count": null,
      "outputs": []
    },
    {
      "cell_type": "code",
      "source": [
        "#so here outliers are removed, see the new max price\n",
        "print(Airbnb_df['price'].max())"
      ],
      "metadata": {
        "id": "ci6TUzp48bYv"
      },
      "execution_count": null,
      "outputs": []
    },
    {
      "cell_type": "markdown",
      "source": [
        "## ***4. Data Vizualization, Storytelling & Experimenting with charts : Understand the relationships between variables***"
      ],
      "metadata": {
        "id": "GF8Ens_Soomf"
      }
    },
    {
      "cell_type": "markdown",
      "source": [
        "#### Chart - 1"
      ],
      "metadata": {
        "id": "0wOQAZs5pc--"
      }
    },
    {
      "cell_type": "markdown",
      "source": [
        "**(1) Distribution Of Airbnb Bookings Price Range Using Histogram**"
      ],
      "metadata": {
        "id": "keFhLEOi9kq0"
      }
    },
    {
      "cell_type": "code",
      "source": [
        "# Chart - 1 visualization code\n",
        "#create a figure with a custom size\n",
        "plt.figure(figsize=(12, 5))\n",
        "\n",
        "#set the seaborn theme to darkgrid\n",
        "sns.set_theme(style='darkgrid')\n",
        "\n",
        "#create a histogram of the 'price' column of the Airbnb_df dataframe\n",
        "#usingsns ditplot function and specifying the color as red\n",
        "sns.distplot(Airbnb_df['price'],color=('r'))\n",
        "\n",
        "#add labels to the x-axis and y-axis\n",
        "plt.xlabel('Price', fontsize=14)\n",
        "plt.ylabel('Density', fontsize=14)\n",
        "\n",
        "#ad a title to the plot\n",
        "plt.title('Distribution of Airbnb Prices', fontsize=15)"
      ],
      "metadata": {
        "id": "7v_ESjsspbW7"
      },
      "execution_count": null,
      "outputs": []
    },
    {
      "cell_type": "markdown",
      "source": [
        "observations -->\n",
        "\n",
        "The range of prices being charged on Airbnb appears to be from 20 to 330 dollars , with the majority of listings falling in the price range of 50 to 150 dollars.\n",
        "\n",
        "The distribution of prices appears to have a peak in the 50 to 150 dollars range, with a relatively lower density of listings in higher and lower price ranges.\n",
        "\n",
        "There may be fewer listings available at prices above 250 dollars, as\n",
        "\n",
        "the density of listings drops significantly in this range."
      ],
      "metadata": {
        "id": "XESiWehPqBRc"
      }
    },
    {
      "cell_type": "markdown",
      "source": [
        "#### Chart - 2"
      ],
      "metadata": {
        "id": "KSlN3yHqYklG"
      }
    },
    {
      "cell_type": "markdown",
      "source": [
        "(2) Total Listing/Property count in Each Neighborhood Group using Count plot"
      ],
      "metadata": {
        "id": "_5Z8IBP1mxno"
      }
    },
    {
      "cell_type": "code",
      "source": [
        "# count the number of listings in each neighbourhood group and store the result in pandas series\n",
        "counts = Airbnb_df['neighbourhood_group'].value_counts()\n",
        "\n",
        " # Reset the inde of the series so that the neighbourhood group become the colummns in the resulting dataframe\n",
        "Top_Neighbourhood_group = counts.reset_index()\n",
        "\n",
        " # Rename the columns of the dataframe to be moredescriptive\n",
        "Top_Neighbourhood_group.columns = ['Neighbourhood_Groups','Listing_counts']\n",
        "\n",
        " # display the resulting Dataframe\n",
        "Top_Neighbourhood_group"
      ],
      "metadata": {
        "id": "R4YgtaqtYklH"
      },
      "execution_count": null,
      "outputs": []
    },
    {
      "cell_type": "code",
      "source": [
        "# Set the figure size\n",
        "plt.figure(figsize=(12, 8))\n",
        "\n",
        "# Create a countplot of the neighbourhood group data\n",
        "sns.countplot(x='neighbourhood_group', data=Airbnb_df)\n",
        "\n",
        "# Set the title of the plot\n",
        "plt.title('Neighbourhood_group Listing Counts in NYC', fontsize=15)\n",
        "\n",
        "# Set the x-axis label\n",
        "plt.xlabel('Neighbourhood_Group', fontsize=14)\n",
        "\n",
        "# Set the y-axis label\n",
        "plt.ylabel('total listing counts', fontsize=14)"
      ],
      "metadata": {
        "id": "tYWgStaCrLi4"
      },
      "execution_count": null,
      "outputs": []
    },
    {
      "cell_type": "markdown",
      "source": [
        "Observations -->\n",
        "\n",
        "Manhattan and Brooklyn have the highest number of listings on Airbnb, with over 19,000 listings each.\n",
        "\n",
        "Queens and the Bronx have significantly fewer listings compared to Manhattan and Brooklyn, with 5,567 and 1,070 listings, respectively\n",
        "\n",
        "Staten Island has the fewest number of listings, with only 365.\n",
        "\n",
        "The distribution of listings across the different neighborhood groups is skewed, with a concentration of listings in Manhattan and Brooklyn.\n",
        "\n",
        "Despite being larger in size, the neighborhoods in Queens, the Bronx, and Staten Island have fewer listings on Airbnb compared to Manhattan, which has a smaller geographical area.\n",
        "\n",
        "This could suggest that the demand for Airbnb rentals is higher in Manhattan compared to the other neighborhoods, leading to a higher concentration of listings in this area.\n",
        "\n",
        "Alternatively, it could be that the supply of listings is higher in Manhattan due to a higher number of homeowners or property owners in this neighborhood who are willing to list their properties on Airbnb."
      ],
      "metadata": {
        "id": "5aaW0BYyYklI"
      }
    },
    {
      "cell_type": "markdown",
      "source": [
        "#### Chart - 3"
      ],
      "metadata": {
        "id": "EM7whBJCYoAo"
      }
    },
    {
      "cell_type": "markdown",
      "source": [
        "(3)Average Price Of Each Neighborhood Group using Point Plot"
      ],
      "metadata": {
        "id": "hrAgKZrlxaEO"
      }
    },
    {
      "cell_type": "code",
      "source": [
        "# Group the Airbnb data set by neighbourhood group and calculate the mean of each group\n",
        "grouped = Airbnb_df.groupby(\"neighbourhood_group\").mean()\n",
        "\n",
        "# Reset the index of the grouped dataframe so that the neighbourhood group becomes a column\n",
        "neighbourhood_group_avg_price = grouped.reset_index()\n",
        "\n",
        "# Rename the \"price\" column to \"avg_price\"\n",
        "neighbourhood_group_avg_price=round(neighbourhood_group_avg_price.rename(columns={\"price\": \"avg_price\"}),2)\n",
        "\n",
        "# Select only the \"neighbourhood_group\" and avg_price columns\n",
        "neighbourhood_group_avg_price[['neighbourhood_group','avg_price']].head()"
      ],
      "metadata": {
        "id": "t6GMdE67YoAp"
      },
      "execution_count": null,
      "outputs": []
    },
    {
      "cell_type": "code",
      "source": [
        "#import mean function from the statistics module\n",
        "from statistics import mean\n",
        "\n",
        "# Create the point plot\n",
        "sns.pointplot(x = 'neighbourhood_group', y='price', data=Airbnb_df, estimator = np.mean)\n",
        "\n",
        "# Add axis labels and a title\n",
        "plt.xlabel('Neighbourhood Group',fontsize=14)\n",
        "plt.ylabel('Average Price',fontsize=14)\n",
        "plt.title('Average Price by Neighbourhood Group',fontsize=15)"
      ],
      "metadata": {
        "id": "FU7ymwGr1jKD"
      },
      "execution_count": null,
      "outputs": []
    },
    {
      "cell_type": "markdown",
      "source": [
        "Observations -->\n",
        "\n",
        "The average price of a listing in New York City varies significantly across different neighborhoods, with Manhattan having the highest 146 dollars/day average price and the Bronx having the lowest near 77 dollars/day.\n",
        "\n",
        "In second graph price distribution is very high in Manhattan and Brooklyn.\n",
        "\n",
        "but Manhattan have more varity in price range, you can see in second violinplot.\n",
        "\n",
        "The average price increases as you move from the outer boroughs (Bronx, Brooklyn, Queens, and Staten Island) towards the center of the city (Manhattan).\n",
        "\n",
        "The average price in queens and Staten Island is relatively similar, despite being in different parts of the city.\n",
        "\n",
        "The data suggests that the overall cost of living in New York City is higher in the center of the city (Manhattan) compared to the outer boroughs. This is likely due to the fact that Manhattan is the most densely populated and commercially important borough, and therefore has higher demand for housing in the centrally located neighborhoods"
      ],
      "metadata": {
        "id": "5dBItgRVYoAp"
      }
    },
    {
      "cell_type": "markdown",
      "source": [
        "#### Chart - 4"
      ],
      "metadata": {
        "id": "4Of9eVA-YrdM"
      }
    },
    {
      "cell_type": "markdown",
      "source": [
        "\n",
        "(4) Price Distribution Of Each Neighborhood Group using Violin Plot"
      ],
      "metadata": {
        "id": "dBdlhWA_1zjw"
      }
    },
    {
      "cell_type": "code",
      "source": [
        "# Create the violin plot for price distribution in each Neighbourhood_groups\n",
        "\n",
        "ax= sns.violinplot(x='neighbourhood_group',y='price',data= Airbnb_df)\n"
      ],
      "metadata": {
        "id": "irlUoxc8YrdO"
      },
      "execution_count": null,
      "outputs": []
    },
    {
      "cell_type": "markdown",
      "source": [
        "Observations -->\n",
        "\n",
        "price distribution is very high in Manhattan and Brooklyn. but Manhattan have more Diversity in price range, you can see in violin plot.\n",
        "\n",
        "Queens and Bronx have same price distribution but in Queens area more distribution in 50\n",
        " but diversity in price is not like Manhattan and Brooklyn."
      ],
      "metadata": {
        "id": "aJRCwT6DYrdO"
      }
    },
    {
      "cell_type": "markdown",
      "source": [
        "#### Chart - 5"
      ],
      "metadata": {
        "id": "bamQiAODYuh1"
      }
    },
    {
      "cell_type": "markdown",
      "source": [
        "\n",
        "(5) Top Neighborhoods by Listing/property using Bar plot"
      ],
      "metadata": {
        "id": "HXbHAK3h2Gyx"
      }
    },
    {
      "cell_type": "code",
      "source": [
        "# create a new DataFrame that displays the top 10 neighborhoods in the Airbnb NYC dataset based on the number of listings in each neighborhood\n",
        "Top_Neighborhoods = Airbnb_df['neighbourhood'].value_counts()[:10].reset_index()\n",
        "\n",
        "# rename the columns of the resulting DataFrame to 'Top_Neighborhoods' and 'Listing_Counts'\n",
        "Top_Neighborhoods.columns = ['Top_Neighborhoods', 'Listing_Counts']\n",
        "\n",
        "# display the resulting DataFrame\n",
        "Top_Neighborhoods"
      ],
      "metadata": {
        "id": "TIJwrbroYuh3"
      },
      "execution_count": null,
      "outputs": []
    },
    {
      "cell_type": "code",
      "source": [
        "# Get the top 10 neighborhoods by listing count\n",
        "top_10_neigbourhoods = Airbnb_df['neighbourhood'].value_counts().nlargest(10)\n",
        "\n",
        "# Create a list of colors to use for the bars\n",
        "colors = ['c', 'g', 'olive', 'y', 'm', 'orange', '#C0C0C0', '#800000', '#008000', '#000080']\n",
        "\n",
        "# Create a bar plot of the top 10 neighborhoods using the specified colors\n",
        "top_10_neigbourhoods.plot(kind='bar', figsize=(15, 6), color = colors)\n",
        "\n",
        "# Set the x-axis label\n",
        "plt.xlabel('Neighbourhood', fontsize=14)\n",
        "\n",
        "# Set the y-axis label\n",
        "plt.ylabel('Total Listing Counts', fontsize=14)\n",
        "\n",
        "# Set the title of the plot\n",
        "plt.title('Listings by Top Neighborhoods in NYC', fontsize=15)"
      ],
      "metadata": {
        "id": "tTSEQqNw2PTz"
      },
      "execution_count": null,
      "outputs": []
    },
    {
      "cell_type": "markdown",
      "source": [
        "Observations -->\n",
        "\n",
        "The top neighborhoods in New York City in terms of listing counts are Williamsburg, Bedford-Stuyvesant, Harlem, Bushwick, and the Upper West Side.\n",
        "\n",
        "The top neighborhoods are primarily located in Brooklyn and Manhattan. This may be due to the fact that these boroughs have a higher overall population and a higher demand for housing.\n",
        "\n",
        "The number of listings alone may not be indicative of the overall demand for housing in a particular neighborhood, as other factors such as the cost of living and the availability of housing may also play a role."
      ],
      "metadata": {
        "id": "dcxuIMRPYuh3"
      }
    },
    {
      "cell_type": "markdown",
      "source": [
        "#### Chart - 6"
      ],
      "metadata": {
        "id": "OH-pJp9IphqM"
      }
    },
    {
      "cell_type": "markdown",
      "source": [
        "(6) Top Hosts With More Listing/Property using Bar chart"
      ],
      "metadata": {
        "id": "oP35UK3Z2YFi"
      }
    },
    {
      "cell_type": "code",
      "source": [
        "\n",
        "# create a new DataFrame that displays the top 10 hosts in the Airbnb NYC dataset based on the number of listings each host has\n",
        "top_10_hosts = Airbnb_df['host_name'].value_counts()[:10].reset_index()\n",
        "\n",
        "# rename the columns of the resulting DataFrame to 'host_name' and 'Total_listings'\n",
        "top_10_hosts.columns = ['host_name', 'Total_listings']\n",
        "\n",
        "# display the resulting DataFrame\n",
        "top_10_hosts\n"
      ],
      "metadata": {
        "id": "kuRf4wtuphqN"
      },
      "execution_count": null,
      "outputs": []
    },
    {
      "cell_type": "code",
      "source": [
        "# Get the top 10 hosts by listing count\n",
        "top_hosts = Airbnb_df['host_name'].value_counts()[:10]\n",
        "\n",
        "# Create a bar plot of the top 10 hosts\n",
        "top_hosts.plot(kind='bar', color='peru', figsize=(18, 7))\n",
        "\n",
        "# Set the x-axis label\n",
        "plt.xlabel('top10_hosts', fontsize=14)\n",
        "\n",
        "# Set the y-axis label\n",
        "plt.ylabel('total_NYC_listings', fontsize=14)\n",
        "\n",
        "# Set the title of the plot\n",
        "plt.title('top 10 hosts on the basis of no of listings in entire NYC!', fontsize=15)\n",
        "\n"
      ],
      "metadata": {
        "id": "EeUxenbH2j3g"
      },
      "execution_count": null,
      "outputs": []
    },
    {
      "cell_type": "markdown",
      "source": [
        "Observations -->\n",
        "\n",
        "The top three hosts in terms of total listings are Michael, David, and John, who have 383, 368, and 276 listings, respectively.\n",
        "\n",
        "There is a relatively large gap between the top two hosts and the rest of the hosts. For example, john has 276 listings, which is significantly fewer than Michael's 383 listings.\n",
        "\n",
        "In this top10 list Mike has 184 listings, which is significantly fewer than\n",
        "\n",
        "Michael's 383 listings. This could indicate that there is a lot of variation in the success of different hosts on Airbnb.\n",
        "\n",
        "There are relatively few hosts with a large number of listings. This could indicate that the Airbnb market is relatively competitive, with a small number of hosts dominating a large portion of the market."
      ],
      "metadata": {
        "id": "loh7H2nzphqN"
      }
    },
    {
      "cell_type": "markdown",
      "source": [
        "#### Chart - 7"
      ],
      "metadata": {
        "id": "PIIx-8_IphqN"
      }
    },
    {
      "cell_type": "markdown",
      "source": [
        "\n",
        "(7) Number Of Active Hosts Per Location Using Line Chart"
      ],
      "metadata": {
        "id": "fVGaJ7974lBz"
      }
    },
    {
      "cell_type": "code",
      "source": [
        "# create a new DataFrame that displays the number of hosts in each neighborhood group in the Airbnb NYC dataset\n",
        "hosts_per_location = Airbnb_df.groupby('neighbourhood_group')['id'].count().reset_index()\n",
        "\n",
        "# rename the columns of the resulting DataFrame to 'Neighbourhood_Groups' and 'Host_counts'\n",
        "hosts_per_location.columns = ['Neighbourhood_Groups', 'Host_counts']\n",
        "\n",
        "# display the resulting DataFrame\n",
        "hosts_per_location\n"
      ],
      "metadata": {
        "id": "lqAIGUfyphqO"
      },
      "execution_count": null,
      "outputs": []
    },
    {
      "cell_type": "code",
      "source": [
        "\n",
        "# Group the data by neighbourhood_group and count the number of listings for each group\n",
        "hosts_per_location = Airbnb_df.groupby('neighbourhood_group')['id'].count()\n",
        "\n",
        "# Get the list of neighbourhood_group names\n",
        "locations = hosts_per_location.index\n",
        "\n",
        "# Get the list of host counts for each neighbourhood_group\n",
        "host_counts = hosts_per_location.values\n",
        "\n",
        "# Set the figure size\n",
        "plt.figure(figsize=(12, 5))\n",
        "\n",
        "# Create the line chart with some experiments using marker function\n",
        "plt.plot(locations, host_counts, marker='o', ms=12, mew=4, mec='r')\n",
        "\n",
        "# Add a title and labels to the x-axis and y-axis\n",
        "plt.title('Number of Active Hosts per Location', fontsize='15')\n",
        "plt.xlabel('Location', fontsize='14')\n",
        "plt.ylabel('Number of Active Hosts', fontsize='14')\n",
        "\n",
        "# Show the plot\n",
        "plt.show()"
      ],
      "metadata": {
        "id": "waEjB1vv5Hpt"
      },
      "execution_count": null,
      "outputs": []
    },
    {
      "cell_type": "markdown",
      "source": [
        "Observations -->\n",
        "\n",
        "Manhattan has the largest number of hosts with 19501,Brooklyn has the second largest number of hosts with 19415.\n",
        "\n",
        "After that Queens with 5567 and the Bronx with 1070. while Staten Island has the fewest with 365.\n",
        "\n",
        "Brooklyn and Manhattan have the largest number of hosts, with more than double the number of hosts in Queens and more than 18 times the number of hosts in the Bronx."
      ],
      "metadata": {
        "id": "iv6ro40sphqO"
      }
    },
    {
      "cell_type": "markdown",
      "source": [
        "#### Chart - 8"
      ],
      "metadata": {
        "id": "BZR9WyysphqO"
      }
    },
    {
      "cell_type": "markdown",
      "source": [
        "\n",
        "(8) Average Minimum Price In Neighborhoods using Scatter and Bar chart"
      ],
      "metadata": {
        "id": "wVnfG0j55jXw"
      }
    },
    {
      "cell_type": "code",
      "source": [
        "# create a new DataFrame that displays the average price of Airbnb rentals in each neighborhood\n",
        "neighbourhood_avg_price = Airbnb_df.groupby(\"neighbourhood\").mean().reset_index().rename(columns={\"price\": \"avg_price\"})[['neighbourhood', 'avg_price']]\n",
        "\n",
        "# select the top 10 neighborhoods with the lowest average prices\n",
        "neighbourhood_avg_price = neighbourhood_avg_price.sort_values(\"avg_price\").head(10)\n",
        "\n",
        "# join the resulting DataFrame with the 'neighbourhood_group' column from the Airbnb NYC dataset, dropping any duplicate entries\n",
        "neighbourhood_avg_price_sorted_with_group = neighbourhood_avg_price.join(Airbnb_df[['neighbourhood', 'neighbourhood_group']].drop_duplicates().set_index('neighbourhood'),\n",
        "                                                                         on='neighbourhood')\n",
        "\n",
        "# Display the resulting data\n",
        "display(neighbourhood_avg_price_sorted_with_group.style.hide_index())"
      ],
      "metadata": {
        "id": "TdPTWpAVphqO"
      },
      "execution_count": null,
      "outputs": []
    },
    {
      "cell_type": "code",
      "source": [
        "neighbourhood_avg_price = (Airbnb_df.groupby(\"neighbourhood\").mean().reset_index().rename(columns={\"price\": \"avg_price\"}))[['neighbourhood', 'avg_price']]\n",
        "neighbourhood_avg_price = (neighbourhood_avg_price.sort_values(\"avg_price\"))\n",
        "\n",
        "# Group the data by neighborhood and calculate the average price\n",
        "neighbourhood_avg_price = Airbnb_df.groupby(\"neighbourhood\")[\"price\"].mean()\n",
        "\n",
        "# Create a new DataFrame with the average price for each neighborhood\n",
        "neighbourhood_prices = pd.DataFrame({\"neighbourhood\": neighbourhood_avg_price.index, \"avg_price\": neighbourhood_avg_price.values})\n",
        "\n",
        "# Merge the average price data with the original DataFrame#trying to find where the coordinates belong from the latitude and longitude\n",
        "df = Airbnb_df.merge(neighbourhood_prices, on=\"neighbourhood\")\n",
        "\n",
        "# Create the scattermapbox plot\n",
        "fig = df.plot.scatter(x=\"longitude\", y=\"latitude\", c=\"avg_price\", title=\"Average Airbnb Price by Neighborhoods in New York City\", figsize=(12,6), cmap=\"plasma\")\n",
        "fig"
      ],
      "metadata": {
        "id": "7TVP5dmL5umu"
      },
      "execution_count": null,
      "outputs": []
    },
    {
      "cell_type": "code",
      "source": [
        "\n",
        "# Extract the values from the dataset\n",
        "neighborhoods = neighbourhood_avg_price_sorted_with_group['neighbourhood']\n",
        "prices = neighbourhood_avg_price_sorted_with_group['avg_price']\n",
        "\n",
        "# Create the bar plot\n",
        "plt.figure(figsize=(15,5))\n",
        "plt.bar(neighborhoods, prices,width=0.5, color = 'orchid')\n",
        "plt.xlabel('Neighborhood')\n",
        "plt.ylabel('Average Price')\n",
        "plt.title('Average Price by Neighborhood')\n",
        "\n",
        "# Show the plot\n",
        "plt.show()"
      ],
      "metadata": {
        "id": "jdREE3E_53Ya"
      },
      "execution_count": null,
      "outputs": []
    },
    {
      "cell_type": "markdown",
      "source": [
        "Observations -->\n",
        "\n",
        "All of the neighborhoods listed are located in the outer boroughs of New York City (Bronx, Queens, and Staten Island). This suggests that these neighborhoods may have a lower overall cost of living compared to neighborhoods in Manhattan and Brooklyn.\n",
        "\n",
        "Most of these neighborhoods are located in the Bronx and Staten Island. These boroughs tend to have a lower overall cost of living compared to Manhattan and Brooklyn.\n",
        "\n",
        "These neighborhoods may be attractive to renters or buyers looking for more affordable housing options in the New York City area."
      ],
      "metadata": {
        "id": "Ob8u6rCTphqO"
      }
    },
    {
      "cell_type": "markdown",
      "source": [
        "#### Chart - 9"
      ],
      "metadata": {
        "id": "YJ55k-q6phqO"
      }
    },
    {
      "cell_type": "markdown",
      "source": [
        "\n",
        "(9) Total Counts Of Each Room Type"
      ],
      "metadata": {
        "id": "iSlg04fv6Byz"
      }
    },
    {
      "cell_type": "code",
      "source": [
        "\n",
        "# create a new DataFrame that displays the number of listings of each room type in the Airbnb NYC dataset\n",
        "top_room_type = Airbnb_df['room_type'].value_counts().reset_index()\n",
        "\n",
        "# rename the columns of the resulting DataFrame to 'Room_Type' and 'Total_counts'\n",
        "top_room_type.columns = ['Room_Type', 'Total_counts']\n",
        "\n",
        "# display the resulting DataFrame\n",
        "top_room_type\n"
      ],
      "metadata": {
        "id": "B2aS4O1ophqO"
      },
      "execution_count": null,
      "outputs": []
    },
    {
      "cell_type": "code",
      "source": [
        "# Set the figure size\n",
        "plt.figure(figsize=(10, 6))\n",
        "\n",
        "# Get the room type counts\n",
        "room_type_counts = Airbnb_df['room_type'].value_counts()\n",
        "\n",
        "# Set the labels and sizes for the pie chart\n",
        "labels = room_type_counts.index\n",
        "sizes = room_type_counts.values\n",
        "\n",
        "# Create the pie chart\n",
        "plt.pie(sizes, labels=labels, autopct='%1.1f%%')\n",
        "\n",
        "# Add a legend to the chart\n",
        "plt.legend(title='Room Type', bbox_to_anchor=(0.8, 0, 0.5, 1), fontsize='12')\n",
        "\n",
        "# Show the plot\n",
        "plt.show()\n"
      ],
      "metadata": {
        "id": "TVzdicBW6NFq"
      },
      "execution_count": null,
      "outputs": []
    },
    {
      "cell_type": "markdown",
      "source": [
        "Observations -->\n",
        "\n",
        "The majority of listings on Airbnb are for entire homes or apartments, with 22784 listings, followed by private rooms with 21996 listings, and shared rooms with 1138 listings.\n",
        "\n",
        "There is a significant difference in the number of listings for each room type. For example, there are almost 20 times as many listings for entire homes or apartments as there are for shared rooms.\n",
        "\n",
        "The data suggests that travelers using Airbnb have a wide range of accommodation options to choose from, including private rooms and entire homes or apartments"
      ],
      "metadata": {
        "id": "TVxDimi2phqP"
      }
    },
    {
      "cell_type": "markdown",
      "source": [
        "#### Chart - 10"
      ],
      "metadata": {
        "id": "U2RJ9gkRphqQ"
      }
    },
    {
      "cell_type": "markdown",
      "source": [
        "\n",
        "(10) Stay Requirement counts by Minimum Nights using Bar chart"
      ],
      "metadata": {
        "id": "vDbzlTKj6nwN"
      }
    },
    {
      "cell_type": "code",
      "source": [
        "# Group the DataFrame by the minimum_nights column and count the number of rows in each group\n",
        "min_nights_count = Airbnb_df.groupby('minimum_nights').size().reset_index(name = 'count')\n",
        "\n",
        "# Sort the resulting DataFrame in descending order by the count column\n",
        "min_nights_count = min_nights_count.sort_values('count', ascending=False)\n",
        "\n",
        "# Select the top 10 rows\n",
        "min_nights_count = min_nights_count.head(15)\n",
        "\n",
        "# Reset the index\n",
        "min_nights_count = min_nights_count.reset_index(drop=True)\n",
        "\n",
        "# Display the resulting DataFrame\n",
        "min_nights_count"
      ],
      "metadata": {
        "id": "GM7a4YP4phqQ"
      },
      "execution_count": null,
      "outputs": []
    },
    {
      "cell_type": "code",
      "source": [
        "# Extract the minimum_nights and count columns from the DataFrame\n",
        "minimum_nights = min_nights_count['minimum_nights']\n",
        "count = min_nights_count['count']\n",
        "\n",
        "# Set the figure size\n",
        "plt.figure(figsize=(12, 4))\n",
        "\n",
        "# Create the bar plot\n",
        "plt.bar(minimum_nights, count)\n",
        "\n",
        "# Add axis labels and a title\n",
        "plt.xlabel('Minimum Nights', fontsize='14')\n",
        "plt.ylabel('Count', fontsize='14')\n",
        "plt.title('Stay Requirement by Minimum Nights', fontsize='15')\n",
        "\n",
        "# Show the plot\n",
        "plt.show()"
      ],
      "metadata": {
        "id": "BnmC488n687P"
      },
      "execution_count": null,
      "outputs": []
    },
    {
      "cell_type": "markdown",
      "source": [
        "Observations -->\n",
        "\n",
        "The majority of listings on Airbnb have a minimum stay requirement of 1 or 2 nights, with 12067 and 11080 listings, respectively.\n",
        "\n",
        "The number of listings with a minimum stay requirement decreases as the length of stay increases, with 7375 listings requiring a minimum stay of 3 nights, and so on.\n",
        "\n",
        "There are relatively few listings with a minimum stay requirement of 30 nights or more, with 3489 and 189 listings, respectively."
      ],
      "metadata": {
        "id": "C84Kjbav7Oig"
      }
    },
    {
      "cell_type": "markdown",
      "source": [
        "#### Chart - 11"
      ],
      "metadata": {
        "id": "x-EpHcCOp1ci"
      }
    },
    {
      "cell_type": "markdown",
      "source": [
        "\n",
        "(11) Total Reviews by Each Neighborhood Group using Pie Chart"
      ],
      "metadata": {
        "id": "WsEgGPQv7ToG"
      }
    },
    {
      "cell_type": "code",
      "source": [
        "\n",
        "# Group the data by neighborhood group and calculate the total number of reviews\n",
        "reviews_by_neighbourhood_group = Airbnb_df.groupby(\"neighbourhood_group\")[\"number_of_reviews\"].sum()\n",
        "\n",
        "# Create a pie chart\n",
        "plt.pie(reviews_by_neighbourhood_group, labels=reviews_by_neighbourhood_group.index, autopct='%1.1f%%')\n",
        "plt.title(\"Number of Reviews by Neighborhood Group in New York City\", fontsize='15')\n",
        "\n",
        "# Display the chart\n",
        "plt.show()\n"
      ],
      "metadata": {
        "id": "mAQTIvtqp1cj"
      },
      "execution_count": null,
      "outputs": []
    },
    {
      "cell_type": "markdown",
      "source": [
        "Observations -->\n",
        "\n",
        "Brooklyn has the largest share of total reviews on Airbnb, with 43.3%, followed by Manhattan with 38.9%.\n",
        "\n",
        "Queens has the third largest share of total reviews, with 14.2%, followed by the Bronx with 2.6% and Staten Island with 1.0%.\n",
        "\n",
        "The data suggests that Airbnb is more popular in Brooklyn and Manhattan compared to the other neighborhood groups.\n",
        "\n",
        "Despite having fewer listings, Brooklyn has more reviews on Airbnb compared to Manhattan. This could indicate that Airbnb users in Brooklyn are more likely to leave reviews, or that the listings in Brooklyn are more popular or successful in generating positive reviews. It is worth noting that there could be a number of other factors that could contribute to this difference in reviews, such as the quality of the listings or the characteristics of the travelers who use Airbnb in these areas."
      ],
      "metadata": {
        "id": "MgTh-oMw8j9a"
      }
    },
    {
      "cell_type": "markdown",
      "source": [
        "#### Chart - 12"
      ],
      "metadata": {
        "id": "n3dbpmDWp1ck"
      }
    },
    {
      "cell_type": "markdown",
      "source": [
        "(12) Number of Max. Reviews by Each Neighborhood Group using Pie Chart"
      ],
      "metadata": {
        "id": "wb3jwfvZ3qLM"
      }
    },
    {
      "cell_type": "code",
      "source": [
        "# Group the Airbnb data by neighbourhood group\n",
        "reviews_by_neighbourhood_group = Airbnb_df.groupby(\"neighbourhood_group\")[\"number_of_reviews\"].max()\n",
        "\n",
        "# Create a pie chart to visualize the distribution of maximum number of reviews among different neighbourhood groups\n",
        "plt.pie(reviews_by_neighbourhood_group, labels=reviews_by_neighbourhood_group.index, autopct='%1.1f%%')\n",
        "\n",
        "# Add a title to the chart\n",
        "plt.title(\"Number of maximum Reviews by Neighborhood Group in NYC\", fontsize='15')\n",
        "\n",
        "# Display the chart\n",
        "plt.show()\n"
      ],
      "metadata": {
        "id": "bwevp1tKp1ck"
      },
      "execution_count": null,
      "outputs": []
    },
    {
      "cell_type": "markdown",
      "source": [
        "Observations -->\n",
        "\n",
        "Queens and Manhattan seem to be the most popular neighborhoods for reviewing, as they have both high number of maximum reviews.\n",
        "\n",
        "Queens has the highest percentage of reviews at 26.5%, but it has the third highest number of listings, behind Manhattan and Brooklyn. This suggests that Queens may be a particularly popular destination for tourists or visitors, even though it has fewer listings compared to Manhattan and Brooklyn.\n",
        "\n",
        "Manhattan and Brooklyn also have a high percentage of reviews, at 25.5% & 20.5%. This indicates that it is a popular destination for tourists or visitors as well. (number of listings higher than queens)\n",
        "\n",
        "Overall, this data suggests that Queens, Manhattan, and Brooklyn are the most popular neighborhoods for tourists or visitors, based on the high number of reviews they receive."
      ],
      "metadata": {
        "id": "UkIrOVxxFhEJ"
      }
    },
    {
      "cell_type": "markdown",
      "source": [
        "#### Chart - 13"
      ],
      "metadata": {
        "id": "Ag9LCva-p1cl"
      }
    },
    {
      "cell_type": "markdown",
      "source": [
        "\n",
        "(13) most reviewed room type per month in neighbourhood groups"
      ],
      "metadata": {
        "id": "kDHTQExcFr8M"
      }
    },
    {
      "cell_type": "code",
      "source": [
        "# create a figure with a default size of (10, 7)\n",
        "f, ax = plt.subplots(figsize=(10, 8))\n",
        "\n",
        "# create a stripplot that displays the number of reviews per month for each room type in the Airbnb NYC dataset\n",
        "ax = sns.stripplot(x='room_type', y='reviews_per_month', hue='neighbourhood_group', dodge=True, data=Airbnb_df, palette='Set1')\n",
        "\n",
        "# set the title of the plot\n",
        "ax.set_title('Most Reviewed room_types in each Neighbourhood Groups', fontsize='14')\n",
        "\n",
        "\n"
      ],
      "metadata": {
        "id": "EUfxeq9-p1cl"
      },
      "execution_count": null,
      "outputs": []
    },
    {
      "cell_type": "markdown",
      "source": [
        "Observations -->\n",
        "\n",
        "We can see that Private room recieved the most no of reviews/month where Manhattan had the highest reviews received for Private rooms with more than 50 reviews/month, followed by Manhattan in the chase.\n",
        "\n",
        "Manhattan & Queens got the most no of reviews for Entire home/apt room type.\n",
        "\n",
        "There were less reviews recieved from shared rooms as compared to other room types and it was from Staten Island followed by Bronx."
      ],
      "metadata": {
        "id": "dPuTDVv9GeYs"
      }
    },
    {
      "cell_type": "markdown",
      "source": [
        "#### Chart - 14"
      ],
      "metadata": {
        "id": "NC_X3p0fY2L0"
      }
    },
    {
      "cell_type": "markdown",
      "source": [
        "(14)Count Of Each Room Types In Entire NYC Using Multiple Bar Plot"
      ],
      "metadata": {
        "id": "--Pnc6F5GioI"
      }
    },
    {
      "cell_type": "code",
      "source": [
        "\n",
        "# Now analysis Room types count in Neighbourhood groups in NYC\n",
        "\n",
        "# Set the size of the plot\n",
        "plt.rcParams['figure.figsize'] = (8, 5)\n",
        "\n",
        "# Create a countplot using seaborn\n",
        "ax = sns.countplot(y='room_type', hue='neighbourhood_group', data=Airbnb_df, palette='bright')\n",
        "\n",
        "# Calculate the total number of room_type values\n",
        "total = len(Airbnb_df['room_type'])\n",
        "\n",
        "# Add percentage labels to each bar in the plot\n",
        "for p in ax.patches:\n",
        "        percentage = '{:.1f}%'.format(100 * p.get_width()/total)\n",
        "        x = p.get_x() + p.get_width() + 0.02\n",
        "        y = p.get_y() + p.get_height()/2\n",
        "        ax.annotate(percentage, (x, y))\n",
        "\n",
        "# Add a title to the plot\n",
        "plt.title('count of each room types in entire NYC', fontsize='15')\n",
        "\n",
        "# Add a label to the x-axis\n",
        "plt.xlabel('Room counts', fontsize='14')\n",
        "\n",
        "# Rotate the x-tick labels\n",
        "plt.xticks(rotation=90)\n",
        "\n",
        "# Add a label to the y-axis\n",
        "plt.ylabel('Rooms', fontsize='14')\n",
        "\n",
        "# Display the plot\n",
        "plt.show()\n"
      ],
      "metadata": {
        "id": "xyC9zolEZNRQ"
      },
      "execution_count": null,
      "outputs": []
    },
    {
      "cell_type": "markdown",
      "source": [
        "Observations -->\n",
        "\n",
        "Manhattan has more listed properties with Entire home/apt around 24.6% of total listed properties followed by Brooklyn with around 19.5%.\n",
        "\n",
        "Private rooms are more in Brooklyn as in 21.9% of the total listed properties followed by Manhattan with 16.9% of them. While 7.3% of private rooms are from Queens.\n",
        "\n",
        "Very few of the total listed have shared rooms listed on Airbnb where there's negligible or almost very rare shared rooms in Staten Island and Bronx.\n",
        "\n",
        "We can infer that Brooklyn,Queens,Bronx has more private room types while Manhattan which has the highest no of listings in entire NYC has more Entire home/apt room types."
      ],
      "metadata": {
        "id": "6XYJDrJqKh4n"
      }
    },
    {
      "cell_type": "markdown",
      "source": [
        "#### Chart - 15"
      ],
      "metadata": {
        "id": "q29F0dvdveiT"
      }
    },
    {
      "cell_type": "markdown",
      "source": [
        "(15) use latitude and longitude in scatterplot map and find neighbourhood_groups and Room types in map"
      ],
      "metadata": {
        "id": "12n25HXvKrF5"
      }
    },
    {
      "cell_type": "code",
      "source": [
        "# trying to find where the coordinates belong from the latitude and longitude\n",
        "\n",
        "# set the default figure size for the seaborn library\n",
        "sns.set(rc={\"figure.figsize\": (10, 8)})\n",
        "\n",
        "# create a scatter plot that displays the longitude and latitude of the listings in the Airbnb NYC dataset\n",
        "ax = sns.scatterplot(data=Airbnb_df, x=\"longitude\", y=\"latitude\", hue='neighbourhood_group', palette='bright')\n",
        "\n",
        "# set the title of the plot\n",
        "ax.set_title('Location Co-ordinates', fontsize='14')\n"
      ],
      "metadata": {
        "id": "o58-TEIhveiU"
      },
      "execution_count": null,
      "outputs": []
    },
    {
      "cell_type": "code",
      "source": [
        "\n",
        "# Let's observe the type of room_types\n",
        "\n",
        "# set the default figure size for the seaborn library\n",
        "sns.set(rc={\"figure.figsize\": (10, 8)})\n",
        "\n",
        "# create a scatter plot that displays the longitude and latitude of the listings in the Airbnb NYC dataset with room_types.\n",
        "ax = sns.scatterplot(x=Airbnb_df.longitude, y=Airbnb_df.latitude, hue=Airbnb_df.room_type, palette='muted')\n",
        "\n",
        "# set the title of the plot\n",
        "ax.set_title('Distribution of type of rooms across NYC', fontsize='14')\n",
        "\n"
      ],
      "metadata": {
        "id": "93o9zyALLGEf"
      },
      "execution_count": null,
      "outputs": []
    },
    {
      "cell_type": "markdown",
      "source": [
        "\n",
        "(16) Price variations in NYC Neighbourhood groups using scatter plot"
      ],
      "metadata": {
        "id": "glzPhv4lLSRz"
      }
    },
    {
      "cell_type": "code",
      "source": [
        "# Let's have an idea of the price variations in neighborhood_groups\n",
        "\n",
        "# create a scatter plot that displays the longitude and latitude of the listings in the Airbnb NYC dataset, with the color of each point indicating the price of the listing\n",
        "lat_long = Airbnb_df.plot(kind='scatter', x='longitude', y='latitude', label='price_variations', c='price',\n",
        "                  cmap=plt.get_cmap('jet'), colorbar=True, alpha=0.4, figsize=(10, 8))\n",
        "\n",
        "# add a legend to the plot\n",
        "lat_long.legend()\n"
      ],
      "metadata": {
        "id": "o6nEJvKXLVDt"
      },
      "execution_count": null,
      "outputs": []
    },
    {
      "cell_type": "markdown",
      "source": [
        "Observations -->\n",
        "\n",
        "The range of prices for accommodations in Manhattan is particularly high, indicating that it is the most expensive place to stay in NYC due to its various attractive amenities, as shown in the attached image.\n",
        "\n",
        "they are likely to attract a lot of tourists or visitors because of more valuable things to visit so price is higher than other neighbourhood groups.\n",
        "\n",
        "Travelers are likely to spent more days in this area because of popular amenities, high concentration of tourist attractions and public transports."
      ],
      "metadata": {
        "id": "rIDcW1U1LhmK"
      }
    },
    {
      "cell_type": "markdown",
      "source": [
        "\n",
        "(17) Find Best Location Listing/Property Location For Travelers and Hosts"
      ],
      "metadata": {
        "id": "UzOljT_xLxw9"
      }
    },
    {
      "cell_type": "code",
      "source": [
        "# Group the data by neighborhood and calculate the average number of reviews\n",
        "neighbourhood_avg_reviews = Airbnb_df.groupby(\"neighbourhood\")[\"number_of_reviews\"].mean()\n",
        "\n",
        "# Create a new DataFrame with the average number of reviews for each neighborhood\n",
        "neighbourhood_reviews = pd.DataFrame({\"neighbourhood\": neighbourhood_avg_reviews.index, \"avg_reviews\": neighbourhood_avg_reviews.values})\n",
        "\n",
        "# Merge the average number of reviews data with the original DataFrame\n",
        "df = Airbnb_df.merge(neighbourhood_reviews, on=\"neighbourhood\")\n",
        "\n",
        "# Create the scattermapbox plot\n",
        "fig = df.plot.scatter(x=\"longitude\", y=\"latitude\", c=\"avg_reviews\", title=\"Average Airbnb Reviews by Neighborhoods in New York City\", figsize=(14,8), cmap=\"plasma\")\n",
        "\n",
        "# Display the scatter map\n",
        "fig\n",
        "\n"
      ],
      "metadata": {
        "id": "6u5YaIrlL0C-"
      },
      "execution_count": null,
      "outputs": []
    },
    {
      "cell_type": "code",
      "source": [
        "pip install image"
      ],
      "metadata": {
        "id": "fE93PFVSOHOB"
      },
      "execution_count": null,
      "outputs": []
    },
    {
      "cell_type": "code",
      "source": [
        "from IPython.display import Image\n",
        "Image(\"/content/drive/MyDrive/Colab Notebooks/Numerical Programming in Python/New York City.jpeg\")"
      ],
      "metadata": {
        "id": "dWTH9ZwWMx_c"
      },
      "execution_count": null,
      "outputs": []
    },
    {
      "cell_type": "markdown",
      "source": [
        "Observations -->\n",
        "\n",
        "I have attached a photo of this map because of some valuable insight. The neighborhoods near the airport in Queens would have a higher average number of reviews, as they are likely to attract a lot of tourists or visitors who are passing through the area. The proximity to the airport could make these neighborhoods a convenient and appealing place to stay for travelers.\n",
        "\n",
        "There could also be other factors contributing to the high average number of reviews in these neighborhoods. For example, they may have a higher concentration of high-quality listings or attractions that attract more visitors and result in more reviews and Airport is key factor i think this is make sense."
      ],
      "metadata": {
        "id": "a9YRlbNOPLNO"
      }
    },
    {
      "cell_type": "markdown",
      "source": [
        "(18) Correlation Heatmap Visualization"
      ],
      "metadata": {
        "id": "7nf9K9XzPQen"
      }
    },
    {
      "cell_type": "code",
      "source": [
        "# Calculate pairwise correlations between columns\n",
        "corr = Airbnb_df.corr()\n",
        "\n",
        "# Display the correlation between columns\n",
        "corr\n"
      ],
      "metadata": {
        "id": "fTzP98c-PNgt"
      },
      "execution_count": null,
      "outputs": []
    },
    {
      "cell_type": "code",
      "source": [
        "# Set the figure size\n",
        "plt.figure(figsize=(12,6))\n",
        "\n",
        "# Visualize correlations as a heatmap\n",
        "sns.heatmap(corr, cmap='BrBG',annot=True)\n",
        "\n",
        "# Display heatmap\n",
        "plt.show()"
      ],
      "metadata": {
        "id": "Bf2VoeyRPgh7"
      },
      "execution_count": null,
      "outputs": []
    },
    {
      "cell_type": "markdown",
      "source": [
        "Observations -->\n",
        "\n",
        "There is a moderate positive correlation (0.58) between the host_id and id columns, which suggests that hosts with more listings are more likely to have unique host IDs.\n",
        "\n",
        "There is a weak positive correlation (0.17) between the price column and the calculated_host_listings_count column, which suggests that hosts with more listings tend to charge higher prices for their listings.\n",
        "\n",
        "There is a moderate positive correlation (0.23) between the calculated_host_listings_count column and the availability_365 column, which suggests that hosts with more listings tend to have more days of availability in the next 365 days.\n",
        "\n",
        "There is a strong positive correlation (0.58) between the number_of_reviews column and the reviews_per_month column, which suggests that listings with more total reviews tend to have more reviews per month."
      ],
      "metadata": {
        "id": "dfTzK48APngF"
      }
    },
    {
      "cell_type": "markdown",
      "source": [
        "\n",
        "(19) Pair Plot Visualization"
      ],
      "metadata": {
        "id": "ymcyggiiPq5d"
      }
    },
    {
      "cell_type": "code",
      "source": [
        "# create a pairplot using the seaborn library to visualize the relationships between different variables in the Airbnb NYC dataset\n",
        "sns.pairplot(Airbnb_df)\n",
        "\n",
        "# show the plot\n",
        "plt.show()"
      ],
      "metadata": {
        "id": "VNjYmJA9PmlL"
      },
      "execution_count": null,
      "outputs": []
    },
    {
      "cell_type": "markdown",
      "source": [
        "* A pair plot consists of multiple scatterplots arranged in a grid, with each\n",
        "scatterplot showing the relationship between two variables\n",
        "\n",
        "* It can be used to visualize relationships between multiple variables and to identify patterns in the data."
      ],
      "metadata": {
        "id": "phzs7GlqPzCm"
      }
    },
    {
      "cell_type": "markdown",
      "source": [
        "## **5. BUSINESS CONCLUSION :-**"
      ],
      "metadata": {
        "id": "JcMwzZxoAimU"
      }
    },
    {
      "cell_type": "markdown",
      "source": [
        "\n",
        "Manhattan and Brooklyn have the highest demand for Airbnb rentals, as evidenced by the large number of listings in these neighborhoods. This could make them attractive areas for hosts to invest in property.\n",
        "\n",
        "Manhattan is world-famous for its parks, museums, buildings, town, liberty, gardens, markets, island and also its substantial number of tourists throughout the year ,it makes sense that demand and price both high.\n",
        "\n",
        "Brooklyn comes in second with significant number of listings and cheaper prices as compared to the Manhattan: With most listings located in Williamsburg and Bedford Stuyvesant two neighborhoods strategically close to Manhattan tourists get the chance to enjoy both boroughs equally while spending less.\n",
        "\n",
        "Williamsburg, Bedford-Stuyvesant, Harlem, Bushwick, and the Upper West Side are the top neighborhoods in terms of listing counts, indicating strong demand for Airbnb rentals in these areas.\n",
        "\n",
        "The average price of a listing in New York City is higher in the center of the city (Manhattan) compared to the outer boroughs. This could indicate that investing in property in Manhattan may be more lucrative for Airbnb rentals.\n",
        "\n",
        "But Manhattan and Brooklyn have the largest number of hosts, indicating a high level of competition in these boroughs.\n",
        "\n",
        "The data suggests that Airbnb rentals are primarily used for short-term stays, with relatively few listings requiring a minimum stay of 30 nights or more. Hosts may want to consider investing in property that can accommodate shorter stays in order to maximize their occupancy rate.\n",
        "\n",
        "The majority of listings on Airbnb are for entire homes or apartments and also Private Rooms with relatively fewer listings for shared rooms. This suggests that travelers using Airbnb have a wide range of accommodation options to choose from, and hosts may want to consider investing in property that can accommodate multiple guests.\n",
        "\n",
        "The data indicates that the availability of Airbnb rentals varies significantly across neighborhoods, with some neighborhoods having a high concentration of listings and others having relatively few.\n",
        "\n",
        "The data indicates that there is a high level of competition among Airbnb hosts, with a small number of hosts dominating a large portion of the market. Hosts may want to consider investing in property in areas with relatively fewer listings in order to differentiate themselves from the competition.\n",
        "\n",
        "The neighborhoods near the airport in Queens would have a higher average number of reviews, as they are likely to attract a lot of tourists or visitors who are passing through the area. The proximity to the airport could make these neighborhoods a convenient and appealing place to stay for travelers for short-term stay with spending less money because The price distribution is high in Manhattan and Brooklyn."
      ],
      "metadata": {
        "id": "Vcpd2TwMQAOm"
      }
    },
    {
      "cell_type": "markdown",
      "source": [
        "### ***Hurrah! You have successfully completed your EDA Capstone Project !!!***"
      ],
      "metadata": {
        "id": "gIfDvo9L0UH2"
      }
    }
  ]
}